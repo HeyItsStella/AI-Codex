{
 "cells": [
  {
   "cell_type": "code",
   "execution_count": null,
   "metadata": {},
   "outputs": [],
   "source": [
    "import warnings\n",
    "warnings.filterwarnings('ignore')\n",
    "\n",
    "import numpy as np\n",
    "import pandas as pd\n",
    "import seaborn as sns\n",
    "import matplotlib.pyplot as plt"
   ]
  },
  {
   "cell_type": "code",
   "execution_count": null,
   "metadata": {},
   "outputs": [],
   "source": [
    "os_df = pd.read_csv(\"./Datasets/os-very-clean.csv\")\n",
    "cs2_df = pd.read_csv(\"./Datasets/cs2-very-clean.csv\")\n",
    "os_df.drop([\"QID11_8_TEXT\", \"QID19_5_TEXT\", \"QID45_12_TEXT\"], axis=1, inplace=True)\n",
    "cs2_df.drop([\"QID11_8_TEXT\", \"QID19_5_TEXT\", \"QID45_12_TEXT\"], axis=1, inplace=True)\n",
    "\n",
    "allDF = pd.concat([os_df,cs2_df], ignore_index = True)\n",
    "\n",
    "allDF.shape"
   ]
  },
  {
   "attachments": {},
   "cell_type": "markdown",
   "metadata": {},
   "source": [
    "Index.txt has more information regarding the questions."
   ]
  },
  {
   "cell_type": "code",
   "execution_count": null,
   "metadata": {},
   "outputs": [],
   "source": [
    "DEMOGRAPHICS = [\"QID4\", \"QID66\", \"QID9\", \"QID11\", \"QID43\", \"QID10_TEXT\"]\n",
    "CONFIDENCE = [\"QID27_4\", \"QID27_16\",\"QID27_5\",\"QID27_18\",\"QID27_20\", \"QID27_21\"]\n",
    "\n",
    "AI_USE_TRUST = [\"QID49_1\", \"QID49_2\", \"QID49_4\", \"QID49_5\", \"QID49_6\", \"QID49_7\"]\n",
    "AI_USE_CASES = [\"QID46_1\", \"QID46_12\", \"QID46_3\", \"QID46_4\", \"QID46_10\"]\n",
    "AI_USE_EXPOSURE = [\"QID64_1\", \"QID64_3\", \"QID64_6\", \"QID64_7\", \"QID64_8\"]\n",
    "WORRY_USE = [\"QID64_7\"]\n",
    "\n",
    "AI_HEARD_TRUST = [\"QID61_1\", \"QID61_2\", \"QID61_10\", \"QID61_5\", \"QID61_6\", \"QID61_7\"]\n",
    "AI_HEARD_EXPOSURE = [ \"QID60_1\", \"QID60_3\", \"QID60_6\", \"QID60_7\"]\n",
    "WORRY_HEARD = [\"QID60_7\"]\n",
    "\n",
    "HACKATHON_RANKINGS = [\"QID39_1\", \"QID39_2\", \"QID39_3\", \"QID39_4\", \"QID39_5\", \"QID39_6\"]"
   ]
  },
  {
   "cell_type": "code",
   "execution_count": null,
   "metadata": {},
   "outputs": [],
   "source": [
    "tempList = DEMOGRAPHICS + AI_USE_CASES\n",
    "\n",
    "tempDF = allDF[tempList].dropna(inplace=False)\n",
    "useCount = len(tempDF)\n",
    "\n",
    "tempList = DEMOGRAPHICS + AI_HEARD_TRUST\n",
    "tempDF = allDF[tempList].dropna(inplace=False)\n",
    "heardCount = len(tempDF)\n",
    "\n",
    "totalCount = len(allDF)\n",
    "\n",
    "print(f\"Proportions heard vs used: {heardCount/totalCount} vs {useCount/totalCount}\")"
   ]
  },
  {
   "cell_type": "code",
   "execution_count": null,
   "metadata": {},
   "outputs": [],
   "source": [
    "corrDF = allDF.copy()\n",
    "corrDF.drop([\"QID19\", \"QID45\", \"QID62\"], inplace=True, axis=1)\n",
    "corr = corrDF.corr()\n",
    "#plt.figure(figsize=(20,20))\n",
    "#sns.heatmap(corr, annot=True, cmap=plt.cm.Reds)\n",
    "#plt.show()"
   ]
  },
  {
   "cell_type": "code",
   "execution_count": null,
   "metadata": {},
   "outputs": [],
   "source": [
    "allDF[\"QID11\"].value_counts()"
   ]
  },
  {
   "attachments": {},
   "cell_type": "markdown",
   "metadata": {},
   "source": [
    "### Q1"
   ]
  },
  {
   "cell_type": "code",
   "execution_count": null,
   "metadata": {},
   "outputs": [],
   "source": [
    "useTrustDF = allDF[AI_USE_TRUST]\n",
    "useTrustDF.dropna(inplace=True)\n",
    "useTrustDF.shape"
   ]
  },
  {
   "cell_type": "code",
   "execution_count": null,
   "metadata": {},
   "outputs": [],
   "source": [
    "heardTrustDF = allDF[AI_HEARD_TRUST]\n",
    "heardTrustDF.dropna(inplace=True)\n",
    "heardTrustDF.shape"
   ]
  },
  {
   "cell_type": "code",
   "execution_count": null,
   "metadata": {},
   "outputs": [],
   "source": [
    "new_columns = {\n",
    "    'QID49_1': 'Trust1',\n",
    "    'QID49_2': 'Trust2',\n",
    "    'QID49_4': 'Trust3',\n",
    "    'QID49_5': 'Trust4',\n",
    "    'QID49_6': 'Trust5',\n",
    "    'QID49_7': 'Trust6',\n",
    "    'QID61_1': 'Trust1',\n",
    "    'QID61_2': 'Trust2',\n",
    "    'QID61_10': 'Trust3',\n",
    "    'QID61_5': 'Trust4',\n",
    "    'QID61_6': 'Trust5',\n",
    "    'QID61_7': 'Trust6'\n",
    "}\n",
    "\n",
    "useTrustDF.rename(columns=new_columns, inplace=True)\n",
    "heardTrustDF.rename(columns=new_columns, inplace=True)"
   ]
  },
  {
   "cell_type": "code",
   "execution_count": null,
   "metadata": {},
   "outputs": [],
   "source": [
    "trustDF = pd.concat([useTrustDF, heardTrustDF], ignore_index = True)"
   ]
  },
  {
   "cell_type": "code",
   "execution_count": null,
   "metadata": {},
   "outputs": [],
   "source": [
    "newTrustDF = trustDF.copy()\n",
    "newTrustDF.drop(columns=[\"Trust1\"], inplace=True) # drop experience, trust1 dropped due to similarity to another question\n",
    "combinedTrust = []\n",
    "for row in newTrustDF.iterrows():\n",
    "    trustMean = row[1][1:].mean()\n",
    "    combinedTrust.append(trustMean)\n",
    "trustDF[\"TrustScore\"] = combinedTrust\n",
    "trustDF"
   ]
  },
  {
   "cell_type": "code",
   "execution_count": null,
   "metadata": {},
   "outputs": [],
   "source": [
    "# Get Trust Score above 3\n",
    "distrust = len(trustDF[trustDF[\"TrustScore\"] < 3])\n",
    "neutral = len(trustDF[trustDF[\"TrustScore\"] == 3])\n",
    "trust = len(trustDF[trustDF[\"TrustScore\"] > 3])\n",
    "total = len(trustDF)\n",
    "print(\"Distrust: \", distrust)\n",
    "print(\"Neutral: \", neutral)\n",
    "print(\"Trust: \", trust)\n",
    "print(\"Total: \", total)\n",
    "print(\"Distrust %: \", distrust/total)\n",
    "print(\"Neutral %: \", neutral/total)\n",
    "print(\"Trust %: \", trust/total)"
   ]
  },
  {
   "cell_type": "code",
   "execution_count": null,
   "metadata": {},
   "outputs": [],
   "source": [
    "fig, axes = plt.subplots(nrows=1, ncols=1, figsize=(5,5))\n",
    "sns.violinplot(y=\"TrustScore\", data=trustDF, cut=0)\n",
    "plt.savefig(\"./Figures/TrustScore.png\")"
   ]
  },
  {
   "attachments": {},
   "cell_type": "markdown",
   "metadata": {},
   "source": [
    "### Q2"
   ]
  },
  {
   "cell_type": "code",
   "execution_count": null,
   "metadata": {},
   "outputs": [],
   "source": [
    "perceptionOfHelpful = allDF[[\"QID13\"] + AI_USE_CASES]\n",
    "perceptionOfHelpful.dropna(inplace=True)"
   ]
  },
  {
   "cell_type": "code",
   "execution_count": null,
   "metadata": {},
   "outputs": [],
   "source": [
    "new_columns = {\n",
    "    \"QID13\": \"User\",\n",
    "    \"QID46_1\": \"Helps Complete Tasks\",\n",
    "    \"QID46_12\": \"Helps When Stuck\",\n",
    "    \"QID46_3\": \"Helps Learn Concepts\",\n",
    "    \"QID46_4\": \"Makes Me More Confident\",\n",
    "    \"QID46_10\": \"Overall improved motivation and engagement\",\n",
    "}\n",
    "\n",
    "perceptionOfHelpful.rename(columns=new_columns, inplace=True)"
   ]
  },
  {
   "cell_type": "code",
   "execution_count": null,
   "metadata": {},
   "outputs": [],
   "source": [
    "perceptionOfHelpful.describe()"
   ]
  },
  {
   "cell_type": "code",
   "execution_count": null,
   "metadata": {},
   "outputs": [],
   "source": [
    "sns.countplot(x=\"Helps Complete Tasks\", data=perceptionOfHelpful)\n",
    "plt.title(\"Helps Complete Tasks\")\n",
    "plt.xlabel(\"Helps Complete Tasks - Score Higher is Better\")\n",
    "plt.ylabel(\"Count\")\n",
    "plt.savefig(\"./Figures/HelpsCompleteTasks.png\")"
   ]
  },
  {
   "cell_type": "code",
   "execution_count": null,
   "metadata": {},
   "outputs": [],
   "source": [
    "sns.countplot(x=\"Helps When Stuck\", data=perceptionOfHelpful)\n",
    "plt.title(\"Helps When Stuck\")\n",
    "plt.xlabel(\"Helps When Stuck - Score Higher is Better\")\n",
    "plt.ylabel(\"Count\")\n",
    "plt.savefig(\"./Figures/HelpsWhenStuck.png\")"
   ]
  },
  {
   "cell_type": "code",
   "execution_count": null,
   "metadata": {},
   "outputs": [],
   "source": [
    "sns.countplot(x=\"Helps Learn Concepts\", data=perceptionOfHelpful)\n",
    "plt.title(\"Helps Learn Concepts\")\n",
    "plt.xlabel(\"Helps Learn Concepts - Score Higher is Better\")\n",
    "plt.ylabel(\"Count\")\n",
    "plt.savefig(\"./Figures/HelpsLearnConcepts.png\")"
   ]
  },
  {
   "cell_type": "code",
   "execution_count": null,
   "metadata": {},
   "outputs": [],
   "source": [
    "sns.countplot(x=\"Makes Me More Confident\", data=perceptionOfHelpful)\n",
    "plt.title(\"Makes Me More Confident\")\n",
    "plt.xlabel(\"Makes Me More Confident - Score Higher is Better\")\n",
    "plt.ylabel(\"Count\")\n",
    "plt.savefig(\"./Figures/MakesMeMoreConfident.png\")"
   ]
  },
  {
   "cell_type": "code",
   "execution_count": null,
   "metadata": {},
   "outputs": [],
   "source": [
    "sns.countplot(x=\"Overall improved motivation and engagement\", data=perceptionOfHelpful)\n",
    "plt.title(\"Overall improved motivation and engagement\")\n",
    "plt.xlabel(\"Overall improved motivation and engagement - Score Higher is Better\")\n",
    "plt.ylabel(\"Count\")\n",
    "plt.savefig(\"./Figures/OverallImprovedMotivationAndEngagement.png\")"
   ]
  },
  {
   "attachments": {},
   "cell_type": "markdown",
   "metadata": {},
   "source": [
    "### Q3"
   ]
  },
  {
   "cell_type": "code",
   "execution_count": null,
   "metadata": {},
   "outputs": [],
   "source": [
    "perceptionOfTools = allDF[[\"QID13\"] + AI_USE_EXPOSURE]\n",
    "perceptionOfTools.dropna(inplace=True)"
   ]
  },
  {
   "cell_type": "code",
   "execution_count": null,
   "metadata": {},
   "outputs": [],
   "source": [
    "perceptionOfTools2 = allDF[[\"QID13\"] + AI_HEARD_EXPOSURE]\n",
    "perceptionOfTools2.dropna(inplace=True)"
   ]
  },
  {
   "cell_type": "code",
   "execution_count": null,
   "metadata": {},
   "outputs": [],
   "source": [
    "new_columns = {\n",
    "    'QID13': 'User',\n",
    "    'QID64_1': 'Encouraged',\n",
    "    'QID64_3': 'Professional',\n",
    "    'QID64_6': 'Others Use',\n",
    "    'QID64_7': 'Worry',\n",
    "    'QID64_8': 'Lesser',\n",
    "    'QID60_1': 'Encouraged',\n",
    "    'QID60_3': 'Professional',\n",
    "    'QID60_6': 'Others Use',\n",
    "    'QID60_7': 'Worry',\n",
    "}\n",
    "\n",
    "perceptionOfTools.rename(columns=new_columns, inplace=True)\n",
    "perceptionOfTools2.rename(columns=new_columns, inplace=True)"
   ]
  },
  {
   "cell_type": "code",
   "execution_count": null,
   "metadata": {},
   "outputs": [],
   "source": [
    "perceptionOfTools.describe()"
   ]
  },
  {
   "cell_type": "code",
   "execution_count": null,
   "metadata": {},
   "outputs": [],
   "source": [
    "perceptionOfTools2.describe()"
   ]
  },
  {
   "cell_type": "code",
   "execution_count": null,
   "metadata": {},
   "outputs": [],
   "source": [
    "perceptionOfTools = pd.concat([perceptionOfTools, perceptionOfTools2], ignore_index = True)\n",
    "perceptionOfTools[\"User\"] = perceptionOfTools[\"User\"].replace({1: \"User\", 2: \"Non-User\"})\n",
    "perceptionOfTools"
   ]
  },
  {
   "cell_type": "code",
   "execution_count": null,
   "metadata": {},
   "outputs": [],
   "source": [
    "sns.violinplot(x=\"User\", y=\"Encouraged\", data=perceptionOfTools, cut=0)\n",
    "plt.title(\"Users Encouraged?\")\n",
    "plt.savefig(\"./Figures/Encouraged.png\")"
   ]
  },
  {
   "cell_type": "code",
   "execution_count": null,
   "metadata": {},
   "outputs": [],
   "source": [
    "sns.violinplot(x=\"User\", y=\"Professional\", data=perceptionOfTools, cut=0)\n",
    "plt.title(\"Users Think AI is Professional?\")\n",
    "plt.savefig(\"./Figures/Professional.png\")"
   ]
  },
  {
   "cell_type": "code",
   "execution_count": null,
   "metadata": {},
   "outputs": [],
   "source": [
    "sns.violinplot(x=\"User\", y=\"Others Use\", data=perceptionOfTools, cut=0)\n",
    "plt.title(\"Users Know Others Use AI?\")\n",
    "plt.savefig(\"./Figures/OthersUse.png\")"
   ]
  },
  {
   "cell_type": "code",
   "execution_count": null,
   "metadata": {},
   "outputs": [],
   "source": [
    "sns.violinplot(x=\"User\", y=\"Worry\", data=perceptionOfTools, cut=0)\n",
    "plt.title(\"Users Worry AI will replace them\")\n",
    "plt.savefig(\"./Figures/Worry.png\")"
   ]
  },
  {
   "attachments": {},
   "cell_type": "markdown",
   "metadata": {},
   "source": [
    "### Q4"
   ]
  },
  {
   "cell_type": "code",
   "execution_count": null,
   "metadata": {},
   "outputs": [],
   "source": [
    "perceptionConfidence = allDF[[\"QID13\"] + CONFIDENCE]\n",
    "perceptionConfidence.dropna(inplace=True)"
   ]
  },
  {
   "cell_type": "code",
   "execution_count": null,
   "metadata": {},
   "outputs": [],
   "source": [
    "perceptionConfidence.columns"
   ]
  },
  {
   "cell_type": "code",
   "execution_count": null,
   "metadata": {},
   "outputs": [],
   "source": [
    "new_columns = {\n",
    "    'QID13': 'User',\n",
    "    'QID27_4': 'Complete tasks alone',\n",
    "    'QID27_16': 'Complete tasks when working with someone',\n",
    "    'QID27_5': 'Complete tasks when they have someone to help',\n",
    "    'QID27_18': 'Finding steps to solve a problem',\n",
    "    'QID27_20': 'Finding ways out when they are stuck on a problem',\n",
    "}\n",
    "\n",
    "perceptionConfidence.rename(columns=new_columns, inplace=True)\n",
    "perceptionConfidence.drop(columns=[\"QID27_21\"], inplace=True)"
   ]
  },
  {
   "cell_type": "code",
   "execution_count": null,
   "metadata": {},
   "outputs": [],
   "source": [
    "perceptionConfidence[\"User\"] = perceptionConfidence[\"User\"].replace({1: \"User\", 2: \"Non-User\"})"
   ]
  },
  {
   "cell_type": "code",
   "execution_count": null,
   "metadata": {},
   "outputs": [],
   "source": [
    "perceptionConfidence.describe()"
   ]
  },
  {
   "cell_type": "code",
   "execution_count": null,
   "metadata": {},
   "outputs": [],
   "source": [
    "sns.violinplot(x=\"User\", y=\"Complete tasks alone\", data=perceptionConfidence, cut=0)\n",
    "plt.title(\"Users Complete Tasks Alone?\")\n",
    "plt.savefig(\"./Figures/CompleteTasksAlone.png\")"
   ]
  },
  {
   "cell_type": "code",
   "execution_count": null,
   "metadata": {},
   "outputs": [],
   "source": [
    "sns.violinplot(x=\"User\", y=\"Complete tasks when working with someone\", data=perceptionConfidence, cut=0)\n",
    "plt.title(\"Users Complete Tasks When Working With Someone?\")\n",
    "plt.savefig(\"./Figures/CompleteTasksWhenWorkingWithSomeone.png\")"
   ]
  },
  {
   "cell_type": "code",
   "execution_count": null,
   "metadata": {},
   "outputs": [],
   "source": [
    "sns.violinplot(x=\"User\", y=\"Complete tasks when they have someone to help\", data=perceptionConfidence, cut=0)\n",
    "plt.title(\"Users Complete Tasks When they Have Someone To Help?\")\n",
    "plt.savefig(\"./Figures/CompleteTasksWhenIHaveSomeoneToHelp.png\")"
   ]
  },
  {
   "cell_type": "code",
   "execution_count": null,
   "metadata": {},
   "outputs": [],
   "source": [
    "sns.violinplot(x=\"User\", y=\"Finding steps to solve a problem\", data=perceptionConfidence, cut=0)\n",
    "plt.title(\"Users Finding Steps to Solve a Problem?\")\n",
    "plt.savefig(\"./Figures/FindingStepsToSolveAProblem.png\")"
   ]
  },
  {
   "cell_type": "code",
   "execution_count": null,
   "metadata": {},
   "outputs": [],
   "source": [
    "sns.violinplot(x=\"User\", y=\"Finding ways out when they are stuck on a problem\", data=perceptionConfidence, cut=0)\n",
    "plt.title(\"Users Finding Ways Out When They Are Stuck On A Problem?\")\n",
    "plt.savefig(\"./Figures/FindingWaysOutWhenTheyAreStuckOnAProblem.png\")"
   ]
  },
  {
   "cell_type": "code",
   "execution_count": null,
   "metadata": {},
   "outputs": [],
   "source": [
    "# Get mean of each column\n",
    "perceptionConfidenceMean = perceptionConfidence.groupby(\"User\").mean()\n",
    "perceptionConfidenceMean"
   ]
  }
 ],
 "metadata": {
  "kernelspec": {
   "display_name": "Python 3",
   "language": "python",
   "name": "python3"
  },
  "language_info": {
   "codemirror_mode": {
    "name": "ipython",
    "version": 3
   },
   "file_extension": ".py",
   "mimetype": "text/x-python",
   "name": "python",
   "nbconvert_exporter": "python",
   "pygments_lexer": "ipython3",
   "version": "3.10.10"
  },
  "orig_nbformat": 4
 },
 "nbformat": 4,
 "nbformat_minor": 2
}
