{
 "cells": [
  {
   "cell_type": "code",
   "execution_count": 4,
   "metadata": {},
   "outputs": [],
   "source": [
    "import warnings\n",
    "warnings.filterwarnings('ignore')\n",
    "\n",
    "import numpy as np\n",
    "import pandas as pd\n",
    "import seaborn as sns\n",
    "import matplotlib.pyplot as plt"
   ]
  },
  {
   "cell_type": "code",
   "execution_count": 5,
   "metadata": {},
   "outputs": [
    {
     "data": {
      "text/plain": [
       "(127, 54)"
      ]
     },
     "execution_count": 5,
     "metadata": {},
     "output_type": "execute_result"
    }
   ],
   "source": [
    "os_df = pd.read_csv(\"./Datasets/os-very-clean.csv\")\n",
    "cs2_df = pd.read_csv(\"./Datasets/cs2-very-clean.csv\")\n",
    "os_df.drop([\"QID11_8_TEXT\", \"QID19_5_TEXT\", \"QID45_12_TEXT\"], axis=1, inplace=True)\n",
    "cs2_df.drop([\"QID11_8_TEXT\", \"QID19_5_TEXT\", \"QID45_12_TEXT\"], axis=1, inplace=True)\n",
    "\n",
    "allDF = pd.concat([os_df,cs2_df], ignore_index = True)\n",
    "\n",
    "allDF.shape"
   ]
  },
  {
   "attachments": {},
   "cell_type": "markdown",
   "metadata": {},
   "source": [
    "Index.txt has more information regarding the questions."
   ]
  },
  {
   "cell_type": "code",
   "execution_count": 6,
   "metadata": {},
   "outputs": [],
   "source": [
    "DEMOGRAPHICS = [\"QID4\", \"QID66\", \"QID9\", \"QID11\", \"QID43\", \"QID10_TEXT\"]\n",
    "CONFIDENCE = [\"QID27_4\", \"QID27_16\",\"QID27_5\",\"QID27_18\",\"QID27_20\", \"QID27_21\"]\n",
    "AI_USE_TRUST = [\"QID49_1\", \"QID49_2\", \"QID49_4\", \"QID49_5\", \"QID49_6\", \"QID49_7\"]\n",
    "AI_USE_CASES = [\"QID46_1\", \"QID46_12\", \"QID46_3\", \"QID46_4\", \"QID46_10\"]\n",
    "AI_USE_EXPOSURE = [\"QID64_1\", \"QID64_3\", \"QID64_6\", \"QID64_7\", \"QID64_8\"]\n",
    "AI_HEARD_TRUST = [\"QID61_1\", \"QID61_2\", \"QID61_10\", \"QID61_5\", \"QID61_6\", \"QID61_7\"]\n",
    "AI_HEARD_EXPOSURE = [ \"QID60_1\", \"QID60_3\", \"QID60_6\", \"QID60_7\"]\n",
    "\n",
    "HACKATHON_RANKINGS = [\"QID39_1\", \"QID39_2\", \"QID39_3\", \"QID39_4\", \"QID39_5\", \"QID39_6\"]"
   ]
  },
  {
   "cell_type": "code",
   "execution_count": null,
   "metadata": {},
   "outputs": [],
   "source": []
  }
 ],
 "metadata": {
  "kernelspec": {
   "display_name": "Python 3",
   "language": "python",
   "name": "python3"
  },
  "language_info": {
   "codemirror_mode": {
    "name": "ipython",
    "version": 3
   },
   "file_extension": ".py",
   "mimetype": "text/x-python",
   "name": "python",
   "nbconvert_exporter": "python",
   "pygments_lexer": "ipython3",
   "version": "3.10.10"
  },
  "orig_nbformat": 4
 },
 "nbformat": 4,
 "nbformat_minor": 2
}
