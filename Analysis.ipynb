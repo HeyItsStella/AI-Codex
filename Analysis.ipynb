{
 "cells": [
  {
   "cell_type": "code",
   "execution_count": 1,
   "metadata": {},
   "outputs": [],
   "source": [
    "import warnings\n",
    "warnings.filterwarnings('ignore')\n",
    "\n",
    "import numpy as np\n",
    "import pandas as pd\n",
    "import seaborn as sns\n",
    "import matplotlib.pyplot as plt"
   ]
  },
  {
   "cell_type": "code",
   "execution_count": 2,
   "metadata": {},
   "outputs": [
    {
     "data": {
      "text/plain": [
       "(127, 54)"
      ]
     },
     "execution_count": 2,
     "metadata": {},
     "output_type": "execute_result"
    }
   ],
   "source": [
    "os_df = pd.read_csv(\"./Datasets/os-very-clean.csv\")\n",
    "cs2_df = pd.read_csv(\"./Datasets/cs2-very-clean.csv\")\n",
    "os_df.drop([\"QID11_8_TEXT\", \"QID19_5_TEXT\", \"QID45_12_TEXT\"], axis=1, inplace=True)\n",
    "cs2_df.drop([\"QID11_8_TEXT\", \"QID19_5_TEXT\", \"QID45_12_TEXT\"], axis=1, inplace=True)\n",
    "\n",
    "allDF = pd.concat([os_df,cs2_df], ignore_index = True)\n",
    "\n",
    "allDF.shape"
   ]
  },
  {
   "attachments": {},
   "cell_type": "markdown",
   "metadata": {},
   "source": []
  },
  {
   "cell_type": "code",
   "execution_count": 3,
   "metadata": {},
   "outputs": [],
   "source": [
    "DEMOGRAPHICS = [\"QID4\", \"QID66\", \"QID9\", \"QID11\", \"QID43\", \"QID10_TEXT\"]\n",
    "CONFIDENCE = [\"QID27_4\", \"QID27_16\",\"QID27_5\",\"QID27_18\",\"QID27_20\", \"QID27_21\"]\n",
    "AI_use = []\n",
    "AI_heard = []"
   ]
  },
  {
   "cell_type": "code",
   "execution_count": null,
   "metadata": {},
   "outputs": [],
   "source": []
  }
 ],
 "metadata": {
  "kernelspec": {
   "display_name": "Python 3",
   "language": "python",
   "name": "python3"
  },
  "language_info": {
   "codemirror_mode": {
    "name": "ipython",
    "version": 3
   },
   "file_extension": ".py",
   "mimetype": "text/x-python",
   "name": "python",
   "nbconvert_exporter": "python",
   "pygments_lexer": "ipython3",
   "version": "3.10.10"
  },
  "orig_nbformat": 4
 },
 "nbformat": 4,
 "nbformat_minor": 2
}
