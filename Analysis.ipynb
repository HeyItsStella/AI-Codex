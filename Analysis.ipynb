{
 "cells": [
  {
   "cell_type": "code",
   "execution_count": null,
   "metadata": {},
   "outputs": [],
   "source": [
    "import warnings\n",
    "warnings.filterwarnings('ignore')\n",
    "\n",
    "import numpy as np\n",
    "import pandas as pd\n",
    "import seaborn as sns\n",
    "import matplotlib.pyplot as plt"
   ]
  },
  {
   "cell_type": "code",
   "execution_count": null,
   "metadata": {},
   "outputs": [],
   "source": [
    "os_df = pd.read_csv(\"./Datasets/os-very-clean.csv\")\n",
    "cs2_df = pd.read_csv(\"./Datasets/cs2-very-clean.csv\")\n",
    "os_df.drop([\"QID11_8_TEXT\", \"QID19_5_TEXT\", \"QID45_12_TEXT\"], axis=1, inplace=True)\n",
    "cs2_df.drop([\"QID11_8_TEXT\", \"QID19_5_TEXT\", \"QID45_12_TEXT\"], axis=1, inplace=True)\n",
    "\n",
    "allDF = pd.concat([os_df,cs2_df], ignore_index = True)\n",
    "\n",
    "allDF.shape"
   ]
  },
  {
   "attachments": {},
   "cell_type": "markdown",
   "metadata": {},
   "source": [
    "Index.txt has more information regarding the questions."
   ]
  },
  {
   "cell_type": "code",
   "execution_count": null,
   "metadata": {},
   "outputs": [],
   "source": [
    "DEMOGRAPHICS = [\"QID4\", \"QID66\", \"QID9\", \"QID11\", \"QID43\", \"QID10_TEXT\"]\n",
    "CONFIDENCE = [\"QID27_4\", \"QID27_16\",\"QID27_5\",\"QID27_18\",\"QID27_20\", \"QID27_21\"]\n",
    "\n",
    "AI_USE_TRUST = [\"QID49_1\", \"QID49_2\", \"QID49_4\", \"QID49_5\", \"QID49_6\", \"QID49_7\"]\n",
    "AI_USE_CASES = [\"QID46_1\", \"QID46_12\", \"QID46_3\", \"QID46_4\", \"QID46_10\"]\n",
    "AI_USE_EXPOSURE = [\"QID64_1\", \"QID64_3\", \"QID64_6\", \"QID64_7\", \"QID64_8\"]\n",
    "\n",
    "AI_HEARD_TRUST = [\"QID61_1\", \"QID61_2\", \"QID61_10\", \"QID61_5\", \"QID61_6\", \"QID61_7\"]\n",
    "AI_HEARD_EXPOSURE = [ \"QID60_1\", \"QID60_3\", \"QID60_6\", \"QID60_7\"]\n",
    "\n",
    "HACKATHON_RANKINGS = [\"QID39_1\", \"QID39_2\", \"QID39_3\", \"QID39_4\", \"QID39_5\", \"QID39_6\"]"
   ]
  },
  {
   "cell_type": "code",
   "execution_count": null,
   "metadata": {},
   "outputs": [],
   "source": [
    "tempList = DEMOGRAPHICS + AI_USE_CASES\n",
    "\n",
    "tempDF = allDF[tempList].dropna(inplace=False)\n",
    "useCount = len(tempDF)\n",
    "\n",
    "tempList = DEMOGRAPHICS + AI_HEARD_TRUST\n",
    "tempDF = allDF[tempList].dropna(inplace=False)\n",
    "heardCount = len(tempDF)\n",
    "\n",
    "totalCount = len(allDF)\n",
    "\n",
    "print(f\"Proporions heard vs used: {heardCount/totalCount} vs {useCount/totalCount}\")"
   ]
  },
  {
   "cell_type": "code",
   "execution_count": null,
   "metadata": {},
   "outputs": [],
   "source": [
    "corrDF = allDF.copy()\n",
    "corrDF.drop([\"QID19\", \"QID45\", \"QID62\"], inplace=True, axis=1)\n",
    "corr = corrDF.corr()\n",
    "#plt.figure(figsize=(20,20))\n",
    "#sns.heatmap(corr, annot=True, cmap=plt.cm.Reds)\n",
    "#plt.show()"
   ]
  },
  {
   "attachments": {},
   "cell_type": "markdown",
   "metadata": {},
   "source": [
    "## Programming Experience"
   ]
  },
  {
   "attachments": {},
   "cell_type": "markdown",
   "metadata": {},
   "source": [
    "### Use"
   ]
  },
  {
   "cell_type": "code",
   "execution_count": null,
   "metadata": {},
   "outputs": [],
   "source": [
    "tempList = [\"QID10_TEXT\"] + AI_USE_CASES\n",
    "expUseDF = allDF[tempList]\n",
    "expUseDF.dropna(inplace=True)\n",
    "expUseDF.info()"
   ]
  },
  {
   "cell_type": "code",
   "execution_count": null,
   "metadata": {},
   "outputs": [],
   "source": [
    "tempList = [\"QID10_TEXT\"] + AI_HEARD_TRUST\n",
    "expUseDF2 = allDF[tempList]\n",
    "expUseDF2.dropna(inplace=True)\n",
    "expUseDF2.info()"
   ]
  },
  {
   "cell_type": "code",
   "execution_count": null,
   "metadata": {},
   "outputs": [],
   "source": [
    "new_columns = {\n",
    "    \"QID10_TEXT\": \"Experience\",\n",
    "    \"QID46_1\": \"Case1\",\n",
    "    \"QID46_12\": \"Case2\",\n",
    "    \"QID46_3\": \"Case3\",\n",
    "    \"QID46_4\": \"Case4\",\n",
    "    \"QID46_10\": \"Case5\"\n",
    "}\n",
    "\n",
    "expUseDF.rename(columns=new_columns, inplace=True)\n",
    "expUseDF2.rename(columns=new_columns, inplace=True)\n",
    "\n",
    "fig, axes = plt.subplots(1, 2, figsize=(15, 5))\n",
    "sns.countplot(ax=axes[0], x=\"Experience\", data=expUseDF)\n",
    "sns.countplot(ax=axes[1], x=\"Experience\", data=expUseDF2)\n",
    "plt.savefig(\"./Figures/ExperienceUvH.png\")\n",
    "plt.show()"
   ]
  },
  {
   "cell_type": "code",
   "execution_count": null,
   "metadata": {},
   "outputs": [],
   "source": [
    "expUseDF[\"Experience\"].value_counts()"
   ]
  },
  {
   "cell_type": "code",
   "execution_count": null,
   "metadata": {},
   "outputs": [],
   "source": [
    "expUseDF2[\"Experience\"].value_counts()"
   ]
  },
  {
   "cell_type": "code",
   "execution_count": null,
   "metadata": {},
   "outputs": [],
   "source": [
    "\n",
    "fig, axes = plt.subplots(nrows=1, ncols=5, figsize=(25,5))\n",
    "bar1 = sns.barplot(ax=axes[0],x=\"Experience\", y=\"Case1\", data=expUseDF)\n",
    "bar2 = sns.barplot(ax=axes[1],x=\"Experience\", y=\"Case2\", data=expUseDF)\n",
    "bar3 = sns.barplot(ax=axes[2],x=\"Experience\", y=\"Case3\", data=expUseDF)\n",
    "bar4 = sns.barplot(ax=axes[3],x=\"Experience\", y=\"Case4\", data=expUseDF)\n",
    "bar5 = sns.barplot(ax=axes[4],x=\"Experience\", y=\"Case5\", data=expUseDF)\n",
    "plt.savefig(\"./Figures/ExperienceCases.png\")\n",
    "plt.show()"
   ]
  },
  {
   "cell_type": "code",
   "execution_count": null,
   "metadata": {},
   "outputs": [],
   "source": [
    "expUseDF.describe()"
   ]
  },
  {
   "attachments": {},
   "cell_type": "markdown",
   "metadata": {},
   "source": [
    "#### UseCases\n",
    "- Case 3 is most common; which is `Using AI helps improve my knowledge about programming concepts.`\n",
    "- Case 2 is second most; which is `Using AI helps me when I am stuck while solving programming tasks.`\n"
   ]
  },
  {
   "attachments": {},
   "cell_type": "markdown",
   "metadata": {},
   "source": [
    "### Trust"
   ]
  },
  {
   "cell_type": "code",
   "execution_count": null,
   "metadata": {},
   "outputs": [],
   "source": [
    "# QID10_TEXT = programming experience\n",
    "\n",
    "tempList = [\"QID10_TEXT\"] + AI_USE_TRUST\n",
    "expTrustDF = allDF[tempList]\n",
    "expTrustDF.dropna(inplace=True)\n",
    "expTrustDF.info()"
   ]
  },
  {
   "cell_type": "code",
   "execution_count": null,
   "metadata": {},
   "outputs": [],
   "source": [
    "tempList = [\"QID10_TEXT\"] + AI_HEARD_TRUST\n",
    "expTrustDF2 = allDF[tempList]\n",
    "expTrustDF2.dropna(inplace=True)\n",
    "expTrustDF2.info()"
   ]
  },
  {
   "cell_type": "code",
   "execution_count": null,
   "metadata": {},
   "outputs": [],
   "source": [
    "new_columns = {\n",
    "    'QID4': 'Gender',\n",
    "    'QID66': 'Ethnicity',\n",
    "    'QID9': 'FirstGen',\n",
    "    'QID11': 'Major',\n",
    "    'QID43': 'SchoolYear',\n",
    "    'QID10_TEXT': 'Experience',\n",
    "    'QID49_1': 'Trust1',\n",
    "    'QID49_2': 'Trust2',\n",
    "    'QID49_4': 'Trust3',\n",
    "    'QID49_5': 'Trust4',\n",
    "    'QID49_6': 'Trust5',\n",
    "    'QID49_7': 'Trust6',\n",
    "    'QID61_1': 'Trust1',\n",
    "    'QID61_2': 'Trust2',\n",
    "    'QID61_10': 'Trust3',\n",
    "    'QID61_5': 'Trust4',\n",
    "    'QID61_6': 'Trust5',\n",
    "    'QID61_7': 'Trust6'\n",
    "}\n",
    "expTrustDF.rename(columns=new_columns, inplace=True)\n",
    "expTrustDF2.rename(columns=new_columns, inplace=True)\n",
    "expTrustDF = pd.concat([expTrustDF, expTrustDF2], ignore_index = True)"
   ]
  },
  {
   "cell_type": "code",
   "execution_count": null,
   "metadata": {},
   "outputs": [],
   "source": [
    "fig, axes = plt.subplots(nrows=1, ncols=6, figsize=(30,5))\n",
    "\n",
    "bar1 = sns.barplot(ax=axes[0], x=expTrustDF[\"Experience\"], y=expTrustDF[\"Trust1\"])\n",
    "bar2 = sns.barplot(ax=axes[1], x=expTrustDF[\"Experience\"], y=expTrustDF[\"Trust2\"])\n",
    "bar3 = sns.barplot(ax=axes[2], x=expTrustDF[\"Experience\"], y=expTrustDF[\"Trust3\"])\n",
    "bar4 = sns.barplot(ax=axes[3], x=expTrustDF[\"Experience\"], y=expTrustDF[\"Trust4\"])\n",
    "bar5 = sns.barplot(ax=axes[4], x=expTrustDF[\"Experience\"], y=expTrustDF[\"Trust5\"])\n",
    "bar6 = sns.barplot(ax=axes[5], x=expTrustDF[\"Experience\"], y=expTrustDF[\"Trust6\"])\n",
    "#plt.savefig(\"./Figures/ExperienceTrust.png\")\n",
    "plt.show()"
   ]
  },
  {
   "cell_type": "code",
   "execution_count": null,
   "metadata": {},
   "outputs": [],
   "source": [
    "newTrustDF = expTrustDF.copy()\n",
    "newTrustDF.drop(columns=[\"Experience\", \"Trust1\"], inplace=True) # drop experience, trust1 dropped due to similarity to another question\n",
    "combinedTrust = []\n",
    "for row in newTrustDF.iterrows():\n",
    "    trustMean = row[1][1:].mean()\n",
    "    combinedTrust.append(trustMean)\n",
    "expTrustDF[\"TrustScore\"] = combinedTrust\n",
    "expTrustDF"
   ]
  },
  {
   "cell_type": "code",
   "execution_count": null,
   "metadata": {},
   "outputs": [],
   "source": [
    "fig, axes = plt.subplots(nrows=1, ncols=1, figsize=(10,5))\n",
    "bar1 = sns.barplot(ax=axes, x=expTrustDF[\"Experience\"], y=expTrustDF[\"TrustScore\"])\n",
    "plt.savefig(\"./Figures/ExperienceTrust.png\")\n",
    "plt.show()\n"
   ]
  },
  {
   "attachments": {},
   "cell_type": "markdown",
   "metadata": {},
   "source": [
    "### Worry"
   ]
  },
  {
   "cell_type": "code",
   "execution_count": null,
   "metadata": {},
   "outputs": [],
   "source": [
    "tempList = [\"QID10_TEXT\", \"QID64_7\"]\n",
    "expWorryDF = allDF[tempList]\n",
    "expWorryDF.dropna(inplace=True)\n",
    "expWorryDF.info()"
   ]
  },
  {
   "cell_type": "code",
   "execution_count": null,
   "metadata": {},
   "outputs": [],
   "source": [
    "tempList = [\"QID10_TEXT\", \"QID60_7\"]\n",
    "expWorryDF2 = allDF[tempList]\n",
    "expWorryDF2.dropna(inplace=True)\n",
    "expWorryDF2.info()"
   ]
  },
  {
   "cell_type": "code",
   "execution_count": null,
   "metadata": {},
   "outputs": [],
   "source": [
    "new_columns = {\n",
    "    'QID10_TEXT': 'Experience',\n",
    "    'QID64_7': 'Worry',\n",
    "    'QID60_7': 'Worry'\n",
    "}\n",
    "expWorryDF.rename(columns=new_columns, inplace=True)\n",
    "expWorryDF2.rename(columns=new_columns, inplace=True)\n",
    "#expWorryDF = pd.concat([expWorryDF, expWorryDF2], ignore_index = True)"
   ]
  },
  {
   "cell_type": "code",
   "execution_count": null,
   "metadata": {},
   "outputs": [],
   "source": [
    "fig, axes = plt.subplots(nrows=1, ncols=1, figsize=(5,5))\n",
    "\n",
    "bar = sns.barplot(ax=axes, x=expWorryDF[\"Experience\"], y=expWorryDF[\"Worry\"])\n",
    "plt.savefig(\"./Figures/ExperienceWorryUser.png\")\n",
    "plt.show()"
   ]
  },
  {
   "cell_type": "code",
   "execution_count": null,
   "metadata": {},
   "outputs": [],
   "source": [
    "fig, axes = plt.subplots(nrows=1, ncols=1, figsize=(5,5))\n",
    "\n",
    "bar = sns.barplot(ax=axes, x=expWorryDF2[\"Experience\"], y=expWorryDF2[\"Worry\"])\n",
    "plt.savefig(\"./Figures/ExperienceWorryNonUser.png\")\n",
    "plt.show()"
   ]
  },
  {
   "cell_type": "code",
   "execution_count": null,
   "metadata": {},
   "outputs": [],
   "source": [
    "expWorryDF.describe()"
   ]
  },
  {
   "cell_type": "code",
   "execution_count": null,
   "metadata": {},
   "outputs": [],
   "source": [
    "expWorryDF2.describe()"
   ]
  },
  {
   "attachments": {},
   "cell_type": "markdown",
   "metadata": {},
   "source": [
    "### Confidence"
   ]
  },
  {
   "cell_type": "code",
   "execution_count": null,
   "metadata": {},
   "outputs": [],
   "source": [
    "tempList = [\"QID10_TEXT\"] + CONFIDENCE\n",
    "expConfDF = allDF[tempList]\n",
    "expConfDF.dropna(inplace=True) \n",
    "expConfDF.info()"
   ]
  },
  {
   "cell_type": "code",
   "execution_count": null,
   "metadata": {},
   "outputs": [],
   "source": [
    "\n",
    "new_columns = {\n",
    "    'QID10_TEXT': 'Experience',\n",
    "    'QID27_4': 'Confidence1',\n",
    "    'QID27_16': 'Confidence2',\n",
    "    'QID27_5': 'Confidence3',\n",
    "    'QID27_18': 'Confidence4',\n",
    "    'QID27_20': 'Confidence5',\n",
    "    'QID27_21': 'Confidence6'\n",
    "}\n",
    "\n",
    "expConfDF.rename(columns=new_columns, inplace=True)"
   ]
  },
  {
   "cell_type": "code",
   "execution_count": null,
   "metadata": {},
   "outputs": [],
   "source": [
    "fig, axes = plt.subplots(nrows=1, ncols=6, figsize=(30,5))\n",
    "\n",
    "bar1 = sns.barplot(ax=axes[0], x=expConfDF[\"Experience\"], y=expConfDF[\"Confidence1\"])\n",
    "bar2 = sns.barplot(ax=axes[1], x=expConfDF[\"Experience\"], y=expConfDF[\"Confidence2\"])\n",
    "bar3 = sns.barplot(ax=axes[2], x=expConfDF[\"Experience\"], y=expConfDF[\"Confidence3\"])\n",
    "bar4 = sns.barplot(ax=axes[3], x=expConfDF[\"Experience\"], y=expConfDF[\"Confidence4\"])\n",
    "bar5 = sns.barplot(ax=axes[4], x=expConfDF[\"Experience\"], y=expConfDF[\"Confidence5\"])\n",
    "bar6 = sns.barplot(ax=axes[5], x=expConfDF[\"Experience\"], y=expConfDF[\"Confidence6\"])\n",
    "\n",
    "plt.show()"
   ]
  },
  {
   "cell_type": "code",
   "execution_count": null,
   "metadata": {},
   "outputs": [],
   "source": [
    "expConfDF"
   ]
  },
  {
   "cell_type": "code",
   "execution_count": null,
   "metadata": {},
   "outputs": [],
   "source": [
    "newConfDF = expConfDF.copy()\n",
    "newConfDF.drop(columns=[\"Experience\", \"Confidence6\"], inplace=True) # Confidence6 dropped due to not being about confidence\n",
    "combinedConf = []\n",
    "for row in newConfDF.iterrows():\n",
    "    confMean = row[1][1:].mean()\n",
    "    combinedConf.append(confMean)\n",
    "expConfDF[\"CombinedConf\"] = combinedConf\n",
    "expConfDF"
   ]
  },
  {
   "cell_type": "code",
   "execution_count": null,
   "metadata": {},
   "outputs": [],
   "source": [
    "fig, axes = plt.subplots(nrows=1, ncols=1, figsize=(5,5))\n",
    "\n",
    "bar = sns.barplot(ax=axes, x=expConfDF[\"Experience\"], y=expConfDF[\"CombinedConf\"])\n",
    "bar.set_ylabel(\"Confidence\")\n",
    "plt.savefig(\"./Figures/ExperienceConfidence.png\")\n",
    "plt.show()"
   ]
  },
  {
   "attachments": {},
   "cell_type": "markdown",
   "metadata": {},
   "source": [
    "## Gender"
   ]
  },
  {
   "attachments": {},
   "cell_type": "markdown",
   "metadata": {},
   "source": [
    "### Use"
   ]
  },
  {
   "cell_type": "code",
   "execution_count": null,
   "metadata": {},
   "outputs": [],
   "source": [
    "tempList = [\"QID4\"] + AI_USE_CASES\n",
    "genderUseDF = allDF[tempList]\n",
    "genderUseDF.dropna(inplace=True)\n",
    "genderUseDF.info()"
   ]
  },
  {
   "cell_type": "code",
   "execution_count": null,
   "metadata": {},
   "outputs": [],
   "source": [
    "tempList = [\"QID4\"] + AI_HEARD_TRUST\n",
    "genderUseDF2 = allDF[tempList]\n",
    "genderUseDF2.dropna(inplace=True)\n",
    "genderUseDF2.info()"
   ]
  },
  {
   "cell_type": "code",
   "execution_count": null,
   "metadata": {},
   "outputs": [],
   "source": [
    "new_columns = {\n",
    "    \"QID4\": \"Gender\",\n",
    "    \"QID46_1\": \"Case1\",\n",
    "    \"QID46_12\": \"Case2\",\n",
    "    \"QID46_3\": \"Case3\",\n",
    "    \"QID46_4\": \"Case4\",\n",
    "    \"QID46_10\": \"Case5\"\n",
    "}\n",
    "\n",
    "genderUseDF.rename(columns=new_columns, inplace=True)\n",
    "genderUseDF2.rename(columns=new_columns, inplace=True)\n",
    "\n",
    "fig, axes = plt.subplots(1, 2, figsize=(15, 5))\n",
    "sns.countplot(ax=axes[0], x=\"Gender\", data=genderUseDF)\n",
    "sns.countplot(ax=axes[1], x=\"Gender\", data=genderUseDF2)\n",
    "plt.savefig(\"./Figures/GenderUvH.png\")\n",
    "plt.show()"
   ]
  },
  {
   "cell_type": "code",
   "execution_count": null,
   "metadata": {},
   "outputs": [],
   "source": [
    "fig, axes = plt.subplots(nrows=1, ncols=5, figsize=(25,5))\n",
    "bar1 = sns.violinplot(ax=axes[0],x=\"Gender\", y=\"Case1\", data=genderUseDF, cut=0)\n",
    "bar2 = sns.violinplot(ax=axes[1],x=\"Gender\", y=\"Case2\", data=genderUseDF, cut=0)\n",
    "bar3 = sns.violinplot(ax=axes[2],x=\"Gender\", y=\"Case3\", data=genderUseDF, cut=0)\n",
    "bar4 = sns.violinplot(ax=axes[3],x=\"Gender\", y=\"Case4\", data=genderUseDF, cut=0)\n",
    "bar5 = sns.violinplot(ax=axes[4],x=\"Gender\", y=\"Case5\", data=genderUseDF, cut=0)\n",
    "#plt.savefig(\"./Figures/GenderCases.png\")\n",
    "plt.show()\n"
   ]
  },
  {
   "attachments": {},
   "cell_type": "markdown",
   "metadata": {},
   "source": [
    "### Trust"
   ]
  },
  {
   "cell_type": "code",
   "execution_count": null,
   "metadata": {},
   "outputs": [],
   "source": [
    "genderUseTrustDF = allDF[[\"QID4\"] + AI_USE_TRUST]\n",
    "genderUseTrustDF.dropna(inplace=True)\n",
    "genderUseTrustDF"
   ]
  },
  {
   "cell_type": "code",
   "execution_count": null,
   "metadata": {},
   "outputs": [],
   "source": [
    "genderHeardTrustDF = allDF[[\"QID4\"] + AI_HEARD_TRUST]\n",
    "genderHeardTrustDF.dropna(inplace=True)\n",
    "#genderHeardTrustDF"
   ]
  },
  {
   "cell_type": "code",
   "execution_count": null,
   "metadata": {},
   "outputs": [],
   "source": [
    "new_columns = {\n",
    "    'QID4': 'Gender',\n",
    "    'QID66': 'Ethnicity',\n",
    "    'QID9': 'FirstGen',\n",
    "    'QID11': 'Major',\n",
    "    'QID43': 'SchoolYear',\n",
    "    'QID10_TEXT': 'Experience',\n",
    "    'QID49_1': 'Trust1',\n",
    "    'QID49_2': 'Trust2',\n",
    "    'QID49_4': 'Trust3',\n",
    "    'QID49_5': 'Trust4',\n",
    "    'QID49_6': 'Trust5',\n",
    "    'QID49_7': 'Trust6',\n",
    "    'QID61_1': 'Trust1',\n",
    "    'QID61_2': 'Trust2',\n",
    "    'QID61_10': 'Trust3',\n",
    "    'QID61_5': 'Trust4',\n",
    "    'QID61_6': 'Trust5',\n",
    "    'QID61_7': 'Trust6'\n",
    "}\n",
    "genderUseTrustDF.rename(columns=new_columns, inplace=True)\n",
    "genderHeardTrustDF.rename(columns=new_columns, inplace=True)"
   ]
  },
  {
   "cell_type": "code",
   "execution_count": null,
   "metadata": {},
   "outputs": [],
   "source": [
    "fig, axes = plt.subplots(nrows=1, ncols=6, figsize=(30,5))\n",
    "\n",
    "vio1 = sns.violinplot(ax=axes[0],x=\"Gender\", y=\"Trust1\", data=genderUseTrustDF, cut=0)\n",
    "vio2 = sns.violinplot(ax=axes[1],x=\"Gender\", y=\"Trust2\", data=genderUseTrustDF, cut=0)\n",
    "vio3 = sns.violinplot(ax=axes[2],x=\"Gender\", y=\"Trust3\", data=genderUseTrustDF, cut=0)\n",
    "vio4 = sns.violinplot(ax=axes[3],x=\"Gender\", y=\"Trust4\", data=genderUseTrustDF, cut=0)\n",
    "vio5 = sns.violinplot(ax=axes[4],x=\"Gender\", y=\"Trust5\", data=genderUseTrustDF, cut=0)\n",
    "vio6 = sns.violinplot(ax=axes[5],x=\"Gender\", y=\"Trust6\", data=genderUseTrustDF, cut=0)\n",
    "\n",
    "plt.show()\n"
   ]
  },
  {
   "cell_type": "code",
   "execution_count": null,
   "metadata": {},
   "outputs": [],
   "source": [
    "fig, axes = plt.subplots(nrows=1, ncols=6, figsize=(30,5))\n",
    "\n",
    "vio1 = sns.violinplot(ax=axes[0],x=\"Gender\", y=\"Trust1\", data=genderHeardTrustDF, cut=0)\n",
    "vio2 = sns.violinplot(ax=axes[1],x=\"Gender\", y=\"Trust2\", data=genderHeardTrustDF, cut=0)\n",
    "vio3 = sns.violinplot(ax=axes[2],x=\"Gender\", y=\"Trust3\", data=genderHeardTrustDF, cut=0)\n",
    "vio4 = sns.violinplot(ax=axes[3],x=\"Gender\", y=\"Trust4\", data=genderHeardTrustDF, cut=0)\n",
    "vio5 = sns.violinplot(ax=axes[4],x=\"Gender\", y=\"Trust5\", data=genderHeardTrustDF, cut=0)\n",
    "vio6 = sns.violinplot(ax=axes[5],x=\"Gender\", y=\"Trust6\", data=genderHeardTrustDF, cut=0)\n",
    "\n",
    "plt.show()"
   ]
  },
  {
   "cell_type": "code",
   "execution_count": null,
   "metadata": {},
   "outputs": [],
   "source": [
    "genderTrustDF = pd.concat([genderUseTrustDF, genderHeardTrustDF], ignore_index = True)"
   ]
  },
  {
   "cell_type": "code",
   "execution_count": null,
   "metadata": {},
   "outputs": [],
   "source": [
    "newTrustDF = genderTrustDF.copy()\n",
    "newTrustDF.drop(columns=[\"Gender\", \"Trust1\"], inplace=True) # drop experience, trust1 dropped due to similarity to another question\n",
    "combinedTrust = []\n",
    "for row in newTrustDF.iterrows():\n",
    "    trustMean = row[1][1:].mean()\n",
    "    combinedTrust.append(trustMean)\n",
    "genderTrustDF[\"TrustScore\"] = combinedTrust\n",
    "genderTrustDF"
   ]
  },
  {
   "cell_type": "code",
   "execution_count": null,
   "metadata": {},
   "outputs": [],
   "source": [
    "fig, axes = plt.subplots(nrows=1, ncols=1, figsize=(5,5))\n",
    "\n",
    "vio1 = sns.violinplot(x=\"Gender\", y=\"TrustScore\", data=genderTrustDF, cut=0)\n",
    "plt.savefig(\"./Figures/GenderTrust.png\")\n",
    "plt.show()"
   ]
  },
  {
   "attachments": {},
   "cell_type": "markdown",
   "metadata": {},
   "source": [
    "### Worry"
   ]
  },
  {
   "cell_type": "code",
   "execution_count": null,
   "metadata": {},
   "outputs": [],
   "source": [
    "genderWorryDF = allDF[[\"QID4\", \"QID64_7\"]]\n",
    "genderWorryDF.dropna(inplace=True)\n",
    "genderWorryDF"
   ]
  },
  {
   "cell_type": "code",
   "execution_count": null,
   "metadata": {},
   "outputs": [],
   "source": [
    "new_columns = {\n",
    "    \"QID4\": \"Gender\",\n",
    "    \"QID64_7\": \"Worry\"\n",
    "}\n",
    "\n",
    "genderWorryDF.rename(columns=new_columns, inplace=True)"
   ]
  },
  {
   "cell_type": "code",
   "execution_count": null,
   "metadata": {},
   "outputs": [],
   "source": [
    "fig, axes = plt.subplots(nrows=1, ncols=1, figsize=(5,5))\n",
    "\n",
    "violin = sns.violinplot(x=\"Gender\", y=\"Worry\", data=genderWorryDF, cut=0)\n",
    "plt.savefig(\"./Figures/GenderWorry.png\")\n",
    "plt.show()"
   ]
  },
  {
   "attachments": {},
   "cell_type": "markdown",
   "metadata": {},
   "source": [
    "### Confidence"
   ]
  },
  {
   "cell_type": "code",
   "execution_count": null,
   "metadata": {},
   "outputs": [],
   "source": [
    "genderConfidenceDF = allDF[[\"QID4\", \"QID13\"] + CONFIDENCE]\n",
    "genderConfidenceDF.dropna(inplace=True)\n",
    "genderConfidenceDF"
   ]
  },
  {
   "cell_type": "code",
   "execution_count": null,
   "metadata": {},
   "outputs": [],
   "source": [
    "new_columns = {\n",
    "    \"QID4\": \"Gender\",\n",
    "    \"QID13\": \"User\",\n",
    "    \"QID27_4\": \"Confidence1\",\n",
    "    \"QID27_16\": \"Confidence2\",\n",
    "    \"QID27_5\": \"Confidence3\",\n",
    "    \"QID27_18\": \"Confidence4\",\n",
    "    \"QID27_20\": \"Confidence5\",\n",
    "    \"QID27_21\": \"Confidence6\",\n",
    "}\n",
    "genderConfidenceDF.rename(columns=new_columns, inplace=True)"
   ]
  },
  {
   "cell_type": "code",
   "execution_count": null,
   "metadata": {},
   "outputs": [],
   "source": [
    "userDF = genderConfidenceDF[genderConfidenceDF[\"User\"] == 1]\n",
    "userDF.shape"
   ]
  },
  {
   "cell_type": "code",
   "execution_count": null,
   "metadata": {},
   "outputs": [],
   "source": [
    "nonUserDF = genderConfidenceDF[genderConfidenceDF[\"User\"] == 2]\n",
    "nonUserDF.shape"
   ]
  },
  {
   "cell_type": "code",
   "execution_count": null,
   "metadata": {},
   "outputs": [],
   "source": [
    "# Calculate confidence score\n",
    "newConfidenceDF = genderConfidenceDF.copy()\n",
    "newConfidenceDF.drop(columns=[\"Gender\", \"Confidence6\"], inplace=True) # Confidence6 dropped due to not being about confidence\n",
    "confMean = []\n",
    "for row in newConfidenceDF.iterrows():\n",
    "    confMean.append(row[1][2:].mean())\n",
    "genderConfidenceDF[\"Confidence\"] = confMean\n",
    "genderConfidenceDF\n",
    "\n"
   ]
  },
  {
   "cell_type": "code",
   "execution_count": null,
   "metadata": {},
   "outputs": [],
   "source": [
    "genderConfidenceDF[\"User\"] = genderConfidenceDF[\"User\"].replace({1: \"User\", 2: \"Non-User\"})"
   ]
  },
  {
   "cell_type": "code",
   "execution_count": null,
   "metadata": {},
   "outputs": [],
   "source": [
    "fig, axes = plt.subplots(nrows=1, ncols=1, figsize=(5,5))\n",
    "\n",
    "#Perhaps drop the 3 and 4 genders, as we have 1 of each respectively?\n",
    "\n",
    "violin = sns.boxplot(x=\"Gender\", y=\"Confidence\", hue=\"User\", data=genderConfidenceDF)\n",
    "plt.savefig(\"./Figures/GenderConfidence.png\")\n",
    "plt.show()"
   ]
  },
  {
   "cell_type": "code",
   "execution_count": null,
   "metadata": {},
   "outputs": [],
   "source": [
    "genderConfidenceDF.describe()"
   ]
  },
  {
   "attachments": {},
   "cell_type": "markdown",
   "metadata": {},
   "source": [
    "## First Gen"
   ]
  },
  {
   "attachments": {},
   "cell_type": "markdown",
   "metadata": {},
   "source": [
    "### Use"
   ]
  },
  {
   "cell_type": "code",
   "execution_count": null,
   "metadata": {},
   "outputs": [],
   "source": [
    "firstUseDF = allDF[[\"QID9\"] + AI_USE_CASES]\n",
    "firstUseDF.dropna(inplace=True)\n",
    "firstUseDF.shape"
   ]
  },
  {
   "cell_type": "code",
   "execution_count": null,
   "metadata": {},
   "outputs": [],
   "source": [
    "firstNonUseDF = allDF[[\"QID9\"] + AI_HEARD_TRUST]\n",
    "firstNonUseDF.dropna(inplace=True)\n",
    "firstNonUseDF.shape"
   ]
  },
  {
   "cell_type": "code",
   "execution_count": null,
   "metadata": {},
   "outputs": [],
   "source": [
    "new_columns = {\n",
    "    \"QID9\": \"FirstGen\",\n",
    "    \"QID46_1\": \"Case1\",\n",
    "    \"QID46_12\": \"Case2\",\n",
    "    \"QID46_3\": \"Case3\",\n",
    "    \"QID46_4\": \"Case4\",\n",
    "    \"QID46_10\": \"Case5\"\n",
    "}\n",
    "\n",
    "firstUseDF.rename(columns=new_columns, inplace=True)\n",
    "firstNonUseDF.rename(columns=new_columns, inplace=True)\n",
    "#firstUseDF.replace({1: \"FirstGen\", 3: \"Continuing\"}, inplace=True)\n",
    "#firstNonUseDF.replace({1: \"FirstGen\", 3: \"Continuing\"}, inplace=True)\n",
    "\n",
    "fig, axes = plt.subplots(1, 2, figsize=(15, 5))\n",
    "sns.countplot(ax=axes[0], x=\"FirstGen\", data=firstUseDF)\n",
    "sns.countplot(ax=axes[1], x=\"FirstGen\", data=firstNonUseDF)\n",
    "plt.savefig(\"./Figures/FirstGenUse.png\")\n",
    "plt.show()"
   ]
  },
  {
   "cell_type": "code",
   "execution_count": null,
   "metadata": {},
   "outputs": [],
   "source": [
    "\n",
    "fig, axes = plt.subplots(nrows=1, ncols=5, figsize=(25,5))\n",
    "bar1 = sns.boxplot(ax=axes[0],x=\"FirstGen\", y=\"Case1\", data=firstUseDF)\n",
    "bar2 = sns.boxplot(ax=axes[1],x=\"FirstGen\", y=\"Case2\", data=firstUseDF)\n",
    "bar3 = sns.boxplot(ax=axes[2],x=\"FirstGen\", y=\"Case3\", data=firstUseDF)\n",
    "bar4 = sns.boxplot(ax=axes[3],x=\"FirstGen\", y=\"Case4\", data=firstUseDF)\n",
    "bar5 = sns.boxplot(ax=axes[4],x=\"FirstGen\", y=\"Case5\", data=firstUseDF)\n",
    "plt.savefig(\"./Figures/FirstGenCases.png\")\n",
    "plt.show()"
   ]
  },
  {
   "attachments": {},
   "cell_type": "markdown",
   "metadata": {},
   "source": [
    "### Trust"
   ]
  },
  {
   "cell_type": "code",
   "execution_count": null,
   "metadata": {},
   "outputs": [],
   "source": [
    "firstUseTrustDF = allDF[[\"QID9\"] + AI_USE_TRUST]\n",
    "firstUseTrustDF.dropna(inplace=True)\n",
    "firstUseTrustDF.shape"
   ]
  },
  {
   "cell_type": "code",
   "execution_count": null,
   "metadata": {},
   "outputs": [],
   "source": [
    "firstNonTrustDF = allDF[[\"QID9\"] + AI_HEARD_TRUST]\n",
    "firstNonTrustDF.dropna(inplace=True)\n",
    "firstNonTrustDF.shape"
   ]
  },
  {
   "cell_type": "code",
   "execution_count": null,
   "metadata": {},
   "outputs": [],
   "source": [
    "new_columns = {\n",
    "    'QID4': 'Gender',\n",
    "    'QID66': 'Ethnicity',\n",
    "    'QID9': 'FirstGen',\n",
    "    'QID11': 'Major',\n",
    "    'QID43': 'SchoolYear',\n",
    "    'QID10_TEXT': 'Experience',\n",
    "    'QID49_1': 'Trust1',\n",
    "    'QID49_2': 'Trust2',\n",
    "    'QID49_4': 'Trust3',\n",
    "    'QID49_5': 'Trust4',\n",
    "    'QID49_6': 'Trust5',\n",
    "    'QID49_7': 'Trust6',\n",
    "    'QID61_1': 'Trust1',\n",
    "    'QID61_2': 'Trust2',\n",
    "    'QID61_10': 'Trust3',\n",
    "    'QID61_5': 'Trust4',\n",
    "    'QID61_6': 'Trust5',\n",
    "    'QID61_7': 'Trust6'\n",
    "}\n",
    "\n",
    "firstUseTrustDF.rename(columns=new_columns, inplace=True)\n",
    "firstNonTrustDF.rename(columns=new_columns, inplace=True)\n"
   ]
  },
  {
   "cell_type": "code",
   "execution_count": null,
   "metadata": {},
   "outputs": [],
   "source": [
    "fig, axes = plt.subplots(nrows=1, ncols=6, figsize=(30,5))\n",
    "\n",
    "vio1 = sns.violinplot(ax=axes[0],x=\"FirstGen\", y=\"Trust1\", data=firstUseTrustDF, cut=0)\n",
    "vio2 = sns.violinplot(ax=axes[1],x=\"FirstGen\", y=\"Trust2\", data=firstUseTrustDF, cut=0)\n",
    "vio3 = sns.violinplot(ax=axes[2],x=\"FirstGen\", y=\"Trust3\", data=firstUseTrustDF, cut=0)\n",
    "vio4 = sns.violinplot(ax=axes[3],x=\"FirstGen\", y=\"Trust4\", data=firstUseTrustDF, cut=0)\n",
    "vio5 = sns.violinplot(ax=axes[4],x=\"FirstGen\", y=\"Trust5\", data=firstUseTrustDF, cut=0)\n",
    "vio6 = sns.violinplot(ax=axes[5],x=\"FirstGen\", y=\"Trust6\", data=firstUseTrustDF, cut=0)\n",
    "\n",
    "plt.show()"
   ]
  },
  {
   "cell_type": "code",
   "execution_count": null,
   "metadata": {},
   "outputs": [],
   "source": [
    "fig, axes = plt.subplots(nrows=1, ncols=6, figsize=(30,5))\n",
    "\n",
    "vio1 = sns.violinplot(ax=axes[0],x=\"FirstGen\", y=\"Trust1\", data=firstNonTrustDF, cut=0)\n",
    "vio2 = sns.violinplot(ax=axes[1],x=\"FirstGen\", y=\"Trust2\", data=firstNonTrustDF, cut=0)\n",
    "vio3 = sns.violinplot(ax=axes[2],x=\"FirstGen\", y=\"Trust3\", data=firstNonTrustDF, cut=0)\n",
    "vio4 = sns.violinplot(ax=axes[3],x=\"FirstGen\", y=\"Trust4\", data=firstNonTrustDF, cut=0)\n",
    "vio5 = sns.violinplot(ax=axes[4],x=\"FirstGen\", y=\"Trust5\", data=firstNonTrustDF, cut=0)\n",
    "vio6 = sns.violinplot(ax=axes[5],x=\"FirstGen\", y=\"Trust6\", data=firstNonTrustDF, cut=0)\n",
    "\n",
    "plt.show()"
   ]
  },
  {
   "cell_type": "code",
   "execution_count": null,
   "metadata": {},
   "outputs": [],
   "source": [
    "firstTrustDF = pd.concat([firstUseTrustDF, firstNonTrustDF], ignore_index = True)"
   ]
  },
  {
   "cell_type": "code",
   "execution_count": null,
   "metadata": {},
   "outputs": [],
   "source": [
    "newTrustDF = firstTrustDF.copy()\n",
    "newTrustDF.drop(columns=[\"FirstGen\", \"Trust1\"], inplace=True) # drop experience, trust1 dropped due to similarity to another question\n",
    "combinedTrust = []\n",
    "for row in newTrustDF.iterrows():\n",
    "    trustMean = row[1][1:].mean()\n",
    "    combinedTrust.append(trustMean)\n",
    "firstTrustDF[\"TrustScore\"] = combinedTrust\n",
    "firstTrustDF"
   ]
  },
  {
   "cell_type": "code",
   "execution_count": null,
   "metadata": {},
   "outputs": [],
   "source": [
    "fig, axes = plt.subplots(nrows=1, ncols=1, figsize=(5,5))\n",
    "\n",
    "vio1 = sns.violinplot(x=\"FirstGen\", y=\"TrustScore\", data=firstTrustDF, cut=0)\n",
    "plt.savefig(\"./Figures/FirstGenTrust.png\")\n",
    "plt.show()"
   ]
  },
  {
   "attachments": {},
   "cell_type": "markdown",
   "metadata": {},
   "source": [
    "### Worry"
   ]
  },
  {
   "cell_type": "code",
   "execution_count": null,
   "metadata": {},
   "outputs": [],
   "source": [
    "firstWorryDF = allDF[[\"QID9\", \"QID64_7\"]]\n",
    "firstWorryDF.dropna(inplace=True)"
   ]
  },
  {
   "cell_type": "code",
   "execution_count": null,
   "metadata": {},
   "outputs": [],
   "source": [
    "new_columns = {\n",
    "    \"QID9\": \"FirstGen\",\n",
    "    \"QID64_7\": \"Worry\"\n",
    "}\n",
    "firstWorryDF.rename(columns=new_columns, inplace=True)"
   ]
  },
  {
   "cell_type": "code",
   "execution_count": null,
   "metadata": {},
   "outputs": [],
   "source": [
    "fig, axes = plt.subplots(nrows=1, ncols=1, figsize=(5,5))\n",
    "\n",
    "vio1 = sns.violinplot(x=\"FirstGen\", y=\"Worry\", data=firstWorryDF, cut=0)\n",
    "plt.savefig(\"./Figures/FirstGenWorry.png\")\n",
    "plt.show()"
   ]
  },
  {
   "attachments": {},
   "cell_type": "markdown",
   "metadata": {},
   "source": [
    "### Confidence"
   ]
  },
  {
   "cell_type": "code",
   "execution_count": null,
   "metadata": {},
   "outputs": [],
   "source": [
    "firstConfDF = allDF[[\"QID9\", \"QID13\"] + CONFIDENCE]\n",
    "firstConfDF.dropna(inplace=True)\n",
    "firstConfDF.shape"
   ]
  },
  {
   "cell_type": "code",
   "execution_count": null,
   "metadata": {},
   "outputs": [],
   "source": [
    "new_columns = {\n",
    "    \"QID9\": \"FirstGen\",\n",
    "    \"QID13\": \"User\",\n",
    "    \"QID27_4\": \"Confidence1\",\n",
    "    \"QID27_16\": \"Confidence2\",\n",
    "    \"QID27_5\": \"Confidence3\",\n",
    "    \"QID27_18\": \"Confidence4\",\n",
    "    \"QID27_20\": \"Confidence5\",\n",
    "    \"QID27_21\": \"Confidence6\",\n",
    "}\n",
    "\n",
    "firstConfDF.rename(columns=new_columns, inplace=True)"
   ]
  },
  {
   "cell_type": "code",
   "execution_count": null,
   "metadata": {},
   "outputs": [],
   "source": [
    "userDF = firstConfDF[firstConfDF[\"User\"] == 1]\n",
    "nonUserDF = firstConfDF[firstConfDF[\"User\"] == 2]"
   ]
  },
  {
   "cell_type": "code",
   "execution_count": null,
   "metadata": {},
   "outputs": [],
   "source": [
    "# Calculate confidence score\n",
    "newConfidenceDF = firstConfDF.copy()\n",
    "newConfidenceDF.drop(columns=[\"FirstGen\", \"Confidence6\"], inplace=True) # Confidence6 dropped due to not being about confidence\n",
    "confMean = []\n",
    "for row in newConfidenceDF.iterrows():\n",
    "    confMean.append(row[1][2:].mean())\n",
    "firstConfDF[\"Confidence\"] = confMean\n",
    "firstConfDF\n"
   ]
  },
  {
   "cell_type": "code",
   "execution_count": null,
   "metadata": {},
   "outputs": [],
   "source": [
    "firstConfDF[\"User\"] = firstConfDF[\"User\"].replace({1: \"User\", 2: \"Non-User\"})\n",
    "firstConfDF[\"FirstGen\"] = firstConfDF[\"FirstGen\"].replace({1: \"First-Gen\", 3: \"Continuing-Gen\"})"
   ]
  },
  {
   "cell_type": "code",
   "execution_count": null,
   "metadata": {},
   "outputs": [],
   "source": [
    "\n",
    "fig, axes = plt.subplots(nrows=1, ncols=1, figsize=(5,5))\n",
    "\n",
    "vio1 = sns.violinplot(x=\"FirstGen\", y=\"Confidence\", data=firstConfDF, hue=\"User\", cut=0)\n",
    "plt.savefig(\"./Figures/FirstGenConfidence.png\")\n",
    "plt.show()"
   ]
  },
  {
   "cell_type": "code",
   "execution_count": null,
   "metadata": {},
   "outputs": [],
   "source": [
    "firstConfDF.describe()"
   ]
  },
  {
   "attachments": {},
   "cell_type": "markdown",
   "metadata": {},
   "source": [
    "## Class year"
   ]
  },
  {
   "attachments": {},
   "cell_type": "markdown",
   "metadata": {},
   "source": []
  },
  {
   "attachments": {},
   "cell_type": "markdown",
   "metadata": {},
   "source": [
    "## ETC"
   ]
  },
  {
   "cell_type": "code",
   "execution_count": null,
   "metadata": {},
   "outputs": [],
   "source": [
    "useTrustDF = allDF[AI_USE_TRUST]\n",
    "useTrustDF.dropna(inplace=True)\n",
    "useTrustDF.shape"
   ]
  },
  {
   "cell_type": "code",
   "execution_count": null,
   "metadata": {},
   "outputs": [],
   "source": [
    "heardTrustDF = allDF[AI_HEARD_TRUST]\n",
    "heardTrustDF.dropna(inplace=True)\n",
    "heardTrustDF.shape"
   ]
  },
  {
   "cell_type": "code",
   "execution_count": null,
   "metadata": {},
   "outputs": [],
   "source": [
    "new_columns = {\n",
    "    'QID49_1': 'Trust1',\n",
    "    'QID49_2': 'Trust2',\n",
    "    'QID49_4': 'Trust3',\n",
    "    'QID49_5': 'Trust4',\n",
    "    'QID49_6': 'Trust5',\n",
    "    'QID49_7': 'Trust6',\n",
    "    'QID61_1': 'Trust1',\n",
    "    'QID61_2': 'Trust2',\n",
    "    'QID61_10': 'Trust3',\n",
    "    'QID61_5': 'Trust4',\n",
    "    'QID61_6': 'Trust5',\n",
    "    'QID61_7': 'Trust6'\n",
    "}\n",
    "\n",
    "useTrustDF.rename(columns=new_columns, inplace=True)\n",
    "heardTrustDF.rename(columns=new_columns, inplace=True)"
   ]
  },
  {
   "cell_type": "code",
   "execution_count": null,
   "metadata": {},
   "outputs": [],
   "source": [
    "trustDF = pd.concat([useTrustDF, heardTrustDF], ignore_index = True)"
   ]
  },
  {
   "cell_type": "code",
   "execution_count": null,
   "metadata": {},
   "outputs": [],
   "source": [
    "newTrustDF = trustDF.copy()\n",
    "newTrustDF.drop(columns=[\"Trust1\"], inplace=True) # drop experience, trust1 dropped due to similarity to another question\n",
    "combinedTrust = []\n",
    "for row in newTrustDF.iterrows():\n",
    "    trustMean = row[1][1:].mean()\n",
    "    combinedTrust.append(trustMean)\n",
    "trustDF[\"TrustScore\"] = combinedTrust\n",
    "trustDF"
   ]
  },
  {
   "cell_type": "code",
   "execution_count": null,
   "metadata": {},
   "outputs": [],
   "source": [
    "# Get Trust Score above 3\n",
    "distrust = len(trustDF[trustDF[\"TrustScore\"] < 3])\n",
    "neutral = len(trustDF[trustDF[\"TrustScore\"] == 3])\n",
    "trust = len(trustDF[trustDF[\"TrustScore\"] > 3])\n",
    "total = len(trustDF)\n",
    "print(\"Distrust: \", distrust)\n",
    "print(\"Neutral: \", neutral)\n",
    "print(\"Trust: \", trust)\n",
    "print(\"Total: \", total)\n",
    "print(\"Distrust %: \", distrust/total)\n",
    "print(\"Neutral %: \", neutral/total)\n",
    "print(\"Trust %: \", trust/total)"
   ]
  },
  {
   "cell_type": "code",
   "execution_count": null,
   "metadata": {},
   "outputs": [],
   "source": []
  }
 ],
 "metadata": {
  "kernelspec": {
   "display_name": "Python 3",
   "language": "python",
   "name": "python3"
  },
  "language_info": {
   "codemirror_mode": {
    "name": "ipython",
    "version": 3
   },
   "file_extension": ".py",
   "mimetype": "text/x-python",
   "name": "python",
   "nbconvert_exporter": "python",
   "pygments_lexer": "ipython3",
   "version": "3.10.10"
  },
  "orig_nbformat": 4
 },
 "nbformat": 4,
 "nbformat_minor": 2
}
